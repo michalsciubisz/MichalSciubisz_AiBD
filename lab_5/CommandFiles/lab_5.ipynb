{
 "cells": [
  {
   "cell_type": "code",
   "execution_count": 1,
   "metadata": {},
   "outputs": [],
   "source": [
    "import pandas as pd"
   ]
  },
  {
   "cell_type": "code",
   "execution_count": 2,
   "metadata": {},
   "outputs": [],
   "source": [
    "# Set path to data\n",
    "direct = \"../AnalysisData/\""
   ]
  },
  {
   "cell_type": "code",
   "execution_count": 14,
   "metadata": {},
   "outputs": [],
   "source": [
    "# Read original data\n",
    "drinks = pd.read_csv(f\"{direct}drinks.csv\")\n",
    "\n",
    "# Extract data about the country and the amount of beer consumed annualy per person \n",
    "drinks_beer = drinks[['country', 'beer_servings']]\n",
    "drinks_beer = drinks_beer.sort_values(['beer_servings'], ascending=False)\n",
    "drinks_beer.to_csv(path_or_buf=f'{direct}drinks_beer_servings.csv', index=False)\n",
    "\n",
    "# Data containing countries which consumes most spirit servings annualy per person\n",
    "drinks_spirit = drinks[['country', 'spirit_servings']]\n",
    "drinks_spirit = drinks_spirit.sort_values(['spirit_servings'], ascending=False)\n",
    "drinks_spirit.to_csv(path_or_buf=f'{direct}drinks_spirit_servings.csv', index=False)\n",
    "\n",
    "# Data containing countries which consumes most wine servings annualy per person\n",
    "drinks_wine = drinks[['country', 'wine_servings']]\n",
    "drinks_wine = drinks_wine.sort_values(['wine_servings'], ascending=False)\n",
    "drinks_wine.to_csv(path_or_buf=f'{direct}drinks_wine_servings.csv', index=False)\n",
    "\n",
    "# Data containing total litres of pure alcohol consumed per person annualy\n",
    "drinks_totally = drinks[['country', 'total_litres_of_pure_alcohol']]\n",
    "drinks_totally = drinks_totally.sort_values(['total_litres_of_pure_alcohol'], ascending=False)\n",
    "drinks_totally.to_csv(path_or_buf=f'{direct}drinks_totally.csv', index=False)"
   ]
  }
 ],
 "metadata": {
  "kernelspec": {
   "display_name": "Python 3.8.8 ('base')",
   "language": "python",
   "name": "python3"
  },
  "language_info": {
   "codemirror_mode": {
    "name": "ipython",
    "version": 3
   },
   "file_extension": ".py",
   "mimetype": "text/x-python",
   "name": "python",
   "nbconvert_exporter": "python",
   "pygments_lexer": "ipython3",
   "version": "3.8.8"
  },
  "orig_nbformat": 4,
  "vscode": {
   "interpreter": {
    "hash": "2c3bfe672fcf22a8cd9975e1c67577fc6c92ac34d5db839f757e54d95bf56ec2"
   }
  }
 },
 "nbformat": 4,
 "nbformat_minor": 2
}
